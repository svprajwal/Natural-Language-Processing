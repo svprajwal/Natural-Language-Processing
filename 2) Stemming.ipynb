{
 "cells": [
  {
   "cell_type": "markdown",
   "metadata": {},
   "source": [
    "# Stemming:-\n",
    "### Stemming is the process of producing morphological variants of a root/base word. Stemming programs are commonly referred to as stemming algorithms or stemmers.\n",
    "### EG:- A stemming algorithm reduces the words “chocolates”, “chocolatey”, “choco” to the root word, “chocolate” and “retrieval”, “retrieved”, “retrieves” reduce to the stem “retrieve”"
   ]
  },
  {
   "cell_type": "markdown",
   "metadata": {},
   "source": [
    "# Here we perform stemming on the famous speech given by Swami Vivekananda at Parliment of religion held in chicago sept 11 1893"
   ]
  },
  {
   "cell_type": "code",
   "execution_count": 2,
   "metadata": {},
   "outputs": [],
   "source": [
    "import nltk\n",
    "#nltk.download()\n",
    "from nltk.stem import PorterStemmer\n",
    "from nltk.corpus import stopwords\n",
    "\n",
    "paragraph = \"\"\"Sisters and Brothers of America,\n",
    "It fills my heart with joy unspeakable to rise in response to the warm and cordial welcome which you have given us. \n",
    "I thank you in the name of the most ancient order of monks in the world, I thank you in the name of the mother of religions,\n",
    "and I thank you in the name of millions and millions of Hindu people of all classes and sects.\n",
    "My thanks, also, to some of the speakers on this platform who, referring to the delegates from the Orient, \n",
    "have told you that these men from far-off nations may well claim the honor of bearing to different lands the idea of toleration. \n",
    "I am proud to belong to a religion which has taught the world both tolerance and universal acceptance. We believe not only in universal toleration, but we accept all religions as true. \n",
    "I am proud to belong to a nation which has sheltered the persecuted and the refugees of all religions and all nations of the earth. \n",
    "I am proud to tell you that we have gathered in our bosom the purest remnant of the Israelites, \n",
    "who came to Southern India and took refuge with us in the very year in which their holy temple was shattered to pieces by Roman tyranny. \n",
    "I am proud to belong to the religion which has sheltered and is still fostering the remnant of the grand Zoroastrian nation. \n",
    "I will quote to you, brethren, a few lines from a hymn which I remember to have repeated from my earliest boyhood, \n",
    "which is every day repeated by millions of human beings: “As the different streams having their sources in different paths which men take through different tendencies, \n",
    "various though they appear, crooked or straight, all lead to Thee.”\n",
    "The present convention, which is one of the most august assemblies ever held,is in itself a vindication, \n",
    "a declaration to the world of the wonderful doctrine preached in the Gita: “Whosoever comes to Me, through whatsoever form, \n",
    "I reach him; all men are struggling through paths which in the end lead to me.” Sectarianism, bigotry, and its horrible descendant, \n",
    "fanaticism, have long possessed this beautiful earth. They have filled the earth with violence, drenched it often and often with human blood, destroyed civilization and sent whole nations to despair. \n",
    "Had it not been for these horrible demons, human society would be far more advanced than it is now. But their time is come; \n",
    "and I fervently hope that the bell that tolled this morning in honor of this convention may be the death-knell of all fanaticism, of all persecutions with the sword or with the pen, \n",
    "and of all uncharitable feelings between persons wending their way to the same goal.\"\"\"\n",
    "\n",
    "sentences = nltk.sent_tokenize(paragraph)\n",
    "stemmer = PorterStemmer()\n",
    "\n",
    "# Stemming\n",
    "for i in range(len(sentences)):\n",
    "    words = nltk.word_tokenize(sentences[i])\n",
    "    words = [stemmer.stem(word) for word in words if word not in set(stopwords.words('english'))]\n",
    "    sentences[i] = ' '.join(words)   \n",
    "    "
   ]
  },
  {
   "cell_type": "code",
   "execution_count": 3,
   "metadata": {},
   "outputs": [
    {
     "data": {
      "text/plain": [
       "['sister brother america , It fill heart joy unspeak rise respons warm cordial welcom given us .',\n",
       " 'I thank name ancient order monk world , I thank name mother religion , I thank name million million hindu peopl class sect .',\n",
       " 'My thank , also , speaker platform , refer deleg orient , told men far-off nation may well claim honor bear differ land idea toler .',\n",
       " 'I proud belong religion taught world toler univers accept .',\n",
       " 'We believ univers toler , accept religion true .',\n",
       " 'I proud belong nation shelter persecut refuge religion nation earth .',\n",
       " 'I proud tell gather bosom purest remnant israelit , came southern india took refug us year holi templ shatter piec roman tyranni .',\n",
       " 'I proud belong religion shelter still foster remnant grand zoroastrian nation .',\n",
       " 'I quot , brethren , line hymn I rememb repeat earliest boyhood , everi day repeat million human be : “ As differ stream sourc differ path men take differ tendenc , variou though appear , crook straight , lead thee. ” the present convent , one august assembl ever held , vindic , declar world wonder doctrin preach gita : “ whosoev come Me , whatsoev form , I reach ; men struggl path end lead me. ” sectarian , bigotri , horribl descend , fanatic , long possess beauti earth .',\n",
       " 'they fill earth violenc , drench often often human blood , destroy civil sent whole nation despair .',\n",
       " 'had horribl demon , human societi would far advanc .',\n",
       " 'but time come ; I fervent hope bell toll morn honor convent may death-knel fanatic , persecut sword pen , uncharit feel person wend way goal .']"
      ]
     },
     "execution_count": 3,
     "metadata": {},
     "output_type": "execute_result"
    }
   ],
   "source": [
    "sentences"
   ]
  },
  {
   "cell_type": "markdown",
   "metadata": {},
   "source": [
    "# Errors in Stemming:\n",
    "## There are mainly two errors in stemming –\n",
    "### 1) over-stemming - When two words are stemmed to same root that are of different stems. Over-stemming can also be regarded as false-positives.\n",
    "#### eg:- Whereas for example \"organization\" as well as \"organs\" are both stemmed to \"organ\".\n",
    "\n",
    "### 2) under-stemming - When two words are stemmed to same root that are not of different stems. Under-stemming can be interpreted as false-negatives.\n",
    "#### eg:-the following two terms of same origin \"absorption\" and \"absorbing\" are stemmed to \"absorpt\" and \"absorb\" \n",
    "\n",
    "\n",
    "# Applications\n",
    "## 1) Stemming is used in information retrieval systems like search engines.\n",
    "## 2) It is used to determine domain vocabularies in domain analysis.\n"
   ]
  },
  {
   "cell_type": "code",
   "execution_count": null,
   "metadata": {},
   "outputs": [],
   "source": []
  }
 ],
 "metadata": {
  "kernelspec": {
   "display_name": "Python 3",
   "language": "python",
   "name": "python3"
  },
  "language_info": {
   "codemirror_mode": {
    "name": "ipython",
    "version": 3
   },
   "file_extension": ".py",
   "mimetype": "text/x-python",
   "name": "python",
   "nbconvert_exporter": "python",
   "pygments_lexer": "ipython3",
   "version": "3.7.6"
  }
 },
 "nbformat": 4,
 "nbformat_minor": 4
}
