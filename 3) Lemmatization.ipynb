{
 "cells": [
  {
   "cell_type": "markdown",
   "metadata": {},
   "source": [
    "# Lemmatization\n",
    "### Lemmatization is the process of grouping together the different inflected forms of a word  so they can be analysed as a single item,identified by the word's lemma will have a common root form,Lemmatization is similar to stemming but it brings context to the words.So it links words with similar meaning to one word.\n",
    "### EG :- Examples of lemmatization : -> rocks : rock, -> corpora : corpus, -> better : good"
   ]
  },
  {
   "cell_type": "markdown",
   "metadata": {},
   "source": [
    "# Here we perform stemming on the famous speech given by Swami Vivekananda at Parliment of religion held in chicago sept 11 1893"
   ]
  },
  {
   "cell_type": "code",
   "execution_count": 1,
   "metadata": {},
   "outputs": [],
   "source": [
    "import nltk\n",
    "from nltk.stem import WordNetLemmatizer\n",
    "from nltk.corpus import stopwords\n",
    "paragraph = \"\"\"Sisters and Brothers of America,\n",
    "It fills my heart with joy unspeakable to rise in response to the warm and cordial welcome which you have given us. \n",
    "I thank you in the name of the most ancient order of monks in the world, I thank you in the name of the mother of religions,\n",
    "and I thank you in the name of millions and millions of Hindu people of all classes and sects.\n",
    "My thanks, also, to some of the speakers on this platform who, referring to the delegates from the Orient, \n",
    "have told you that these men from far-off nations may well claim the honor of bearing to different lands the idea of toleration. \n",
    "I am proud to belong to a religion which has taught the world both tolerance and universal acceptance. We believe not only in universal toleration, but we accept all religions as true. \n",
    "I am proud to belong to a nation which has sheltered the persecuted and the refugees of all religions and all nations of the earth. \n",
    "I am proud to tell you that we have gathered in our bosom the purest remnant of the Israelites, \n",
    "who came to Southern India and took refuge with us in the very year in which their holy temple was shattered to pieces by Roman tyranny. \n",
    "I am proud to belong to the religion which has sheltered and is still fostering the remnant of the grand Zoroastrian nation. \n",
    "I will quote to you, brethren, a few lines from a hymn which I remember to have repeated from my earliest boyhood, \n",
    "which is every day repeated by millions of human beings: “As the different streams having their sources in different paths which men take through different tendencies, \n",
    "various though they appear, crooked or straight, all lead to Thee.”\n",
    "The present convention, which is one of the most august assemblies ever held,is in itself a vindication, \n",
    "a declaration to the world of the wonderful doctrine preached in the Gita: “Whosoever comes to Me, through whatsoever form, \n",
    "I reach him; all men are struggling through paths which in the end lead to me.” Sectarianism, bigotry, and its horrible descendant, \n",
    "fanaticism, have long possessed this beautiful earth. They have filled the earth with violence, drenched it often and often with human blood, destroyed civilization and sent whole nations to despair. \n",
    "Had it not been for these horrible demons, human society would be far more advanced than it is now. But their time is come; \n",
    "and I fervently hope that the bell that tolled this morning in honor of this convention may be the death-knell of all fanaticism, of all persecutions with the sword or with the pen, \n",
    "and of all uncharitable feelings between persons wending their way to the same goal.\"\"\"\n",
    "\n",
    "sentences = nltk.sent_tokenize(paragraph)\n",
    "lemmatizer = WordNetLemmatizer()\n",
    "\n",
    "# Lemmatization\n",
    "for i in range(len(sentences)):\n",
    "    words = nltk.word_tokenize(sentences[i])\n",
    "    words = [lemmatizer.lemmatize(word) for word in words if word not in set(stopwords.words('english'))]\n",
    "    sentences[i] = ' '.join(words)  \n",
    "    \n"
   ]
  },
  {
   "cell_type": "code",
   "execution_count": 2,
   "metadata": {},
   "outputs": [
    {
     "data": {
      "text/plain": [
       "['Sisters Brothers America , It fill heart joy unspeakable rise response warm cordial welcome given u .',\n",
       " 'I thank name ancient order monk world , I thank name mother religion , I thank name million million Hindu people class sect .',\n",
       " 'My thanks , also , speaker platform , referring delegate Orient , told men far-off nation may well claim honor bearing different land idea toleration .',\n",
       " 'I proud belong religion taught world tolerance universal acceptance .',\n",
       " 'We believe universal toleration , accept religion true .',\n",
       " 'I proud belong nation sheltered persecuted refugee religion nation earth .',\n",
       " 'I proud tell gathered bosom purest remnant Israelites , came Southern India took refuge u year holy temple shattered piece Roman tyranny .',\n",
       " 'I proud belong religion sheltered still fostering remnant grand Zoroastrian nation .',\n",
       " 'I quote , brother , line hymn I remember repeated earliest boyhood , every day repeated million human being : “ As different stream source different path men take different tendency , various though appear , crooked straight , lead Thee. ” The present convention , one august assembly ever held , vindication , declaration world wonderful doctrine preached Gita : “ Whosoever come Me , whatsoever form , I reach ; men struggling path end lead me. ” Sectarianism , bigotry , horrible descendant , fanaticism , long possessed beautiful earth .',\n",
       " 'They filled earth violence , drenched often often human blood , destroyed civilization sent whole nation despair .',\n",
       " 'Had horrible demon , human society would far advanced .',\n",
       " 'But time come ; I fervently hope bell tolled morning honor convention may death-knell fanaticism , persecution sword pen , uncharitable feeling person wending way goal .']"
      ]
     },
     "execution_count": 2,
     "metadata": {},
     "output_type": "execute_result"
    }
   ],
   "source": [
    "sentences"
   ]
  },
  {
   "cell_type": "markdown",
   "metadata": {},
   "source": [
    "# Applications of lemmatization are:\n",
    "\n",
    "## 1) Used in comprehensive retrieval systems like search engines.\n",
    "## 2) Used in compact indexing."
   ]
  },
  {
   "cell_type": "code",
   "execution_count": null,
   "metadata": {},
   "outputs": [],
   "source": []
  }
 ],
 "metadata": {
  "kernelspec": {
   "display_name": "Python 3",
   "language": "python",
   "name": "python3"
  },
  "language_info": {
   "codemirror_mode": {
    "name": "ipython",
    "version": 3
   },
   "file_extension": ".py",
   "mimetype": "text/x-python",
   "name": "python",
   "nbconvert_exporter": "python",
   "pygments_lexer": "ipython3",
   "version": "3.7.6"
  }
 },
 "nbformat": 4,
 "nbformat_minor": 4
}
