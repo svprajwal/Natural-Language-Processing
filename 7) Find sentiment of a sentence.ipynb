{
 "cells": [
  {
   "cell_type": "markdown",
   "metadata": {},
   "source": [
    "# sentiment analysis techniques calculate sentiment/polarity by matching words back to a dictionary of words flagged as “positive,” “negative,” or “neutral.” "
   ]
  },
  {
   "cell_type": "code",
   "execution_count": 6,
   "metadata": {},
   "outputs": [
    {
     "data": {
      "text/plain": [
       "['I', 'love', 'this', 'mobile,', 'nice', 'experience']"
      ]
     },
     "execution_count": 6,
     "metadata": {},
     "output_type": "execute_result"
    }
   ],
   "source": [
    "newSentence='I love this mobile, nice experience'\n",
    "newSentence.split()"
   ]
  },
  {
   "cell_type": "code",
   "execution_count": 7,
   "metadata": {},
   "outputs": [],
   "source": [
    "import pandas as pd\n",
    "PositiveWords=pd.read_table('C:/Users/Vasanth/Desktop/ivy/Python Datasets/Sentiment Analysis/Positive_words.txt',encoding='latin-1')\n",
    "NegativeWords=pd.read_table('C:/Users/Vasanth/Desktop/ivy/Python Datasets/Sentiment Analysis/Negative_words.txt',encoding='latin-1')"
   ]
  },
  {
   "cell_type": "markdown",
   "metadata": {},
   "source": [
    "### Defining a Sentiment Score function using Bag of words"
   ]
  },
  {
   "cell_type": "code",
   "execution_count": 8,
   "metadata": {},
   "outputs": [],
   "source": [
    "# Defining a function to take a sentence as input and provide a sentiment fo it.\n",
    "def ComputeSentimentScore(inputSentence):\n",
    "    import re\n",
    "    \n",
    "    PositiveScore=0\n",
    "    NegativeScore=0\n",
    "    OverallSentiment=''\n",
    "    \n",
    "    # converting every word in lowercase\n",
    "    newSentence=inputSentence.lower()\n",
    "    \n",
    "    # Removing everything which is not alphabets\n",
    "    WordList= re.sub(r'[^a-z A-Z]',r'',newSentence)\n",
    "    \n",
    "    # Splitting the sentence into list of words\n",
    "    WordList=WordList.split()\n",
    "    \n",
    "    # Iterate every word and check if it is present in the positive or negative word list\n",
    "    for newWord in WordList:\n",
    "        #print(newWord)\n",
    "        if (newWord in NegativeWords.values):\n",
    "            NegativeScore+=1\n",
    "        if (newWord in PositiveWords.values):\n",
    "            PositiveScore+=1\n",
    "    #print('Final Positive Score:',PositiveScore)\n",
    "    #print('Final Negative Score:',NegativeScore)\n",
    "    #print('Overall Score:',PositiveScore-NegativeScore)\n",
    "    \n",
    "    if((PositiveScore-NegativeScore) > 0):\n",
    "        OverallSentiment='Positive'\n",
    "    \n",
    "    elif((PositiveScore-NegativeScore) == 0):\n",
    "        OverallSentiment='Neutral'\n",
    "    \n",
    "    else:\n",
    "        OverallSentiment='Negative'\n",
    "        \n",
    "    return(OverallSentiment)"
   ]
  },
  {
   "cell_type": "markdown",
   "metadata": {},
   "source": [
    "### Calling the sentiment score function for a single text"
   ]
  },
  {
   "cell_type": "code",
   "execution_count": 9,
   "metadata": {},
   "outputs": [
    {
     "data": {
      "text/plain": [
       "'Positive'"
      ]
     },
     "execution_count": 9,
     "metadata": {},
     "output_type": "execute_result"
    }
   ],
   "source": [
    "#newSentence='I hate this mobile, worst experience'\n",
    "newSentence='I love this mobile, nice experience'\n",
    "\n",
    "#Calling the function by passing sample sentence\n",
    "ComputeSentimentScore(newSentence)"
   ]
  },
  {
   "cell_type": "code",
   "execution_count": 10,
   "metadata": {},
   "outputs": [],
   "source": [
    "### Calling the sentiment score function for a column in dataframe"
   ]
  },
  {
   "cell_type": "code",
   "execution_count": 13,
   "metadata": {},
   "outputs": [
    {
     "name": "stdout",
     "output_type": "stream",
     "text": [
      "(1077, 1)\n"
     ]
    },
    {
     "data": {
      "text/html": [
       "<div>\n",
       "<style scoped>\n",
       "    .dataframe tbody tr th:only-of-type {\n",
       "        vertical-align: middle;\n",
       "    }\n",
       "\n",
       "    .dataframe tbody tr th {\n",
       "        vertical-align: top;\n",
       "    }\n",
       "\n",
       "    .dataframe thead th {\n",
       "        text-align: right;\n",
       "    }\n",
       "</style>\n",
       "<table border=\"1\" class=\"dataframe\">\n",
       "  <thead>\n",
       "    <tr style=\"text-align: right;\">\n",
       "      <th></th>\n",
       "      <th>Tweets</th>\n",
       "    </tr>\n",
       "  </thead>\n",
       "  <tbody>\n",
       "    <tr>\n",
       "      <th>0</th>\n",
       "      <td>Hackers galore Also being sued for passed deb...</td>\n",
       "    </tr>\n",
       "    <tr>\n",
       "      <th>1</th>\n",
       "      <td>Hackers galore Also being sued for passed deb...</td>\n",
       "    </tr>\n",
       "    <tr>\n",
       "      <th>2</th>\n",
       "      <td>London England UK  Come rock with ya girl Fri...</td>\n",
       "    </tr>\n",
       "    <tr>\n",
       "      <th>3</th>\n",
       "      <td>NewsAlert  BengaluruVijaywada Indigo flight 6E...</td>\n",
       "    </tr>\n",
       "    <tr>\n",
       "      <th>4</th>\n",
       "      <td>Hackers galore Also being sued for passed debt...</td>\n",
       "    </tr>\n",
       "  </tbody>\n",
       "</table>\n",
       "</div>"
      ],
      "text/plain": [
       "                                              Tweets\n",
       "0   Hackers galore Also being sued for passed deb...\n",
       "1   Hackers galore Also being sued for passed deb...\n",
       "2   London England UK  Come rock with ya girl Fri...\n",
       "3  NewsAlert  BengaluruVijaywada Indigo flight 6E...\n",
       "4  Hackers galore Also being sued for passed debt..."
      ]
     },
     "execution_count": 13,
     "metadata": {},
     "output_type": "execute_result"
    }
   ],
   "source": [
    "IndigoTweets=pd.read_csv('C:\\\\Users\\\\Vasanth\\\\Desktop\\\\ivy\\\\python classes\\\\text mining\\\\Indigo Tweets.csv', encoding='latin')\n",
    "print(IndigoTweets.shape)\n",
    "IndigoTweets.head()"
   ]
  },
  {
   "cell_type": "code",
   "execution_count": 14,
   "metadata": {},
   "outputs": [
    {
     "data": {
      "text/html": [
       "<div>\n",
       "<style scoped>\n",
       "    .dataframe tbody tr th:only-of-type {\n",
       "        vertical-align: middle;\n",
       "    }\n",
       "\n",
       "    .dataframe tbody tr th {\n",
       "        vertical-align: top;\n",
       "    }\n",
       "\n",
       "    .dataframe thead th {\n",
       "        text-align: right;\n",
       "    }\n",
       "</style>\n",
       "<table border=\"1\" class=\"dataframe\">\n",
       "  <thead>\n",
       "    <tr style=\"text-align: right;\">\n",
       "      <th></th>\n",
       "      <th>Tweets</th>\n",
       "      <th>Sentiment</th>\n",
       "    </tr>\n",
       "  </thead>\n",
       "  <tbody>\n",
       "    <tr>\n",
       "      <th>0</th>\n",
       "      <td>Hackers galore Also being sued for passed deb...</td>\n",
       "      <td>Neutral</td>\n",
       "    </tr>\n",
       "    <tr>\n",
       "      <th>1</th>\n",
       "      <td>Hackers galore Also being sued for passed deb...</td>\n",
       "      <td>Neutral</td>\n",
       "    </tr>\n",
       "    <tr>\n",
       "      <th>2</th>\n",
       "      <td>London England UK  Come rock with ya girl Fri...</td>\n",
       "      <td>Neutral</td>\n",
       "    </tr>\n",
       "    <tr>\n",
       "      <th>3</th>\n",
       "      <td>NewsAlert  BengaluruVijaywada Indigo flight 6E...</td>\n",
       "      <td>Neutral</td>\n",
       "    </tr>\n",
       "    <tr>\n",
       "      <th>4</th>\n",
       "      <td>Hackers galore Also being sued for passed debt...</td>\n",
       "      <td>Neutral</td>\n",
       "    </tr>\n",
       "  </tbody>\n",
       "</table>\n",
       "</div>"
      ],
      "text/plain": [
       "                                              Tweets Sentiment\n",
       "0   Hackers galore Also being sued for passed deb...   Neutral\n",
       "1   Hackers galore Also being sued for passed deb...   Neutral\n",
       "2   London England UK  Come rock with ya girl Fri...   Neutral\n",
       "3  NewsAlert  BengaluruVijaywada Indigo flight 6E...   Neutral\n",
       "4  Hackers galore Also being sued for passed debt...   Neutral"
      ]
     },
     "execution_count": 14,
     "metadata": {},
     "output_type": "execute_result"
    }
   ],
   "source": [
    "# Calling sentiment score function for every tweet\n",
    "IndigoTweets['Sentiment']=IndigoTweets['Tweets'].apply(ComputeSentimentScore)\n",
    "IndigoTweets.head()"
   ]
  },
  {
   "cell_type": "code",
   "execution_count": 15,
   "metadata": {},
   "outputs": [
    {
     "data": {
      "text/plain": [
       "<matplotlib.axes._subplots.AxesSubplot at 0x2aefc60f888>"
      ]
     },
     "execution_count": 15,
     "metadata": {},
     "output_type": "execute_result"
    },
    {
     "data": {
      "image/png": "[encoded data removed]",
      "text/plain": [
       "<Figure size 720x288 with 2 Axes>"
      ]
     },
     "metadata": {
      "needs_background": "light"
     },
     "output_type": "display_data"
    }
   ],
   "source": [
    "# Visualizing the overall sentiment distribution\n",
    "import matplotlib.pyplot as plt\n",
    "fig, subPlot =plt.subplots(nrows=1, ncols=2, figsize=(10,4))\n",
    "fig.suptitle(\"Sentiment analysis of Indigo Tweets\")\n",
    "\n",
    "# Grouping the data\n",
    "GroupedData=IndigoTweets.groupby('Sentiment').size()\n",
    "\n",
    "# Creating the charts\n",
    "GroupedData.plot(kind='bar', ax=subPlot[0], color=['crimson', 'yellowgreen','lightblue'])\n",
    "GroupedData.plot(kind='pie', ax=subPlot[1], colors=['crimson', 'yellowgreen','lightblue'])"
   ]
  },
  {
   "cell_type": "code",
   "execution_count": null,
   "metadata": {},
   "outputs": [],
   "source": []
  }
 ],
 "metadata": {
  "kernelspec": {
   "display_name": "Python 3",
   "language": "python",
   "name": "python3"
  },
  "language_info": {
   "codemirror_mode": {
    "name": "ipython",
    "version": 3
   },
   "file_extension": ".py",
   "mimetype": "text/x-python",
   "name": "python",
   "nbconvert_exporter": "python",
   "pygments_lexer": "ipython3",
   "version": "3.7.6"
  }
 },
 "nbformat": 4,
 "nbformat_minor": 4
}
